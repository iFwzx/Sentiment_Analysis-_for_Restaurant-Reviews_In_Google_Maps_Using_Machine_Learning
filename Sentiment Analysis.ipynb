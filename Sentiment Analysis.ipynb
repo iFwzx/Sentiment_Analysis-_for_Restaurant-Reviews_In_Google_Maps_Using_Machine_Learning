{
 "cells": [
  {
   "cell_type": "code",
   "execution_count": 130,
   "id": "32c0de2e",
   "metadata": {},
   "outputs": [],
   "source": [
    "import pandas as pd"
   ]
  },
  {
   "cell_type": "code",
   "execution_count": 131,
   "id": "3976bba8",
   "metadata": {},
   "outputs": [
    {
     "data": {
      "text/html": [
       "<div>\n",
       "<style scoped>\n",
       "    .dataframe tbody tr th:only-of-type {\n",
       "        vertical-align: middle;\n",
       "    }\n",
       "\n",
       "    .dataframe tbody tr th {\n",
       "        vertical-align: top;\n",
       "    }\n",
       "\n",
       "    .dataframe thead th {\n",
       "        text-align: right;\n",
       "    }\n",
       "</style>\n",
       "<table border=\"1\" class=\"dataframe\">\n",
       "  <thead>\n",
       "    <tr style=\"text-align: right;\">\n",
       "      <th></th>\n",
       "      <th>name</th>\n",
       "      <th>duration</th>\n",
       "      <th>rating</th>\n",
       "      <th>review</th>\n",
       "      <th>sentiment</th>\n",
       "    </tr>\n",
       "  </thead>\n",
       "  <tbody>\n",
       "    <tr>\n",
       "      <th>0</th>\n",
       "      <td>dalal Alsharqawi</td>\n",
       "      <td>an hour ago</td>\n",
       "      <td>5</td>\n",
       "      <td>(Translated by Google) A beautiful restaurant ...</td>\n",
       "      <td>Positive</td>\n",
       "    </tr>\n",
       "    <tr>\n",
       "      <th>1</th>\n",
       "      <td>noor jbara</td>\n",
       "      <td>2 hours ago</td>\n",
       "      <td>5</td>\n",
       "      <td>A little overpriced but delicious pizza</td>\n",
       "      <td>Positive</td>\n",
       "    </tr>\n",
       "    <tr>\n",
       "      <th>2</th>\n",
       "      <td>محمد الشعيلي</td>\n",
       "      <td>4 hours ago</td>\n",
       "      <td>5</td>\n",
       "      <td>(Translated by Google) Very beautiful 🤩 deserv...</td>\n",
       "      <td>Positive</td>\n",
       "    </tr>\n",
       "    <tr>\n",
       "      <th>3</th>\n",
       "      <td>SMILE DAYS</td>\n",
       "      <td>7 hours ago</td>\n",
       "      <td>5</td>\n",
       "      <td>(Translated by Google) There is a response to ...</td>\n",
       "      <td>Positive</td>\n",
       "    </tr>\n",
       "    <tr>\n",
       "      <th>4</th>\n",
       "      <td>M H</td>\n",
       "      <td>8 hours ago</td>\n",
       "      <td>5</td>\n",
       "      <td>(Translated by Google) The best pizza in the w...</td>\n",
       "      <td>Positive</td>\n",
       "    </tr>\n",
       "  </tbody>\n",
       "</table>\n",
       "</div>"
      ],
      "text/plain": [
       "               name     duration  rating  \\\n",
       "0  dalal Alsharqawi  an hour ago       5   \n",
       "1        noor jbara  2 hours ago       5   \n",
       "2      محمد الشعيلي  4 hours ago       5   \n",
       "3        SMILE DAYS  7 hours ago       5   \n",
       "4               M H  8 hours ago       5   \n",
       "\n",
       "                                              review sentiment  \n",
       "0  (Translated by Google) A beautiful restaurant ...  Positive  \n",
       "1            A little overpriced but delicious pizza  Positive  \n",
       "2  (Translated by Google) Very beautiful 🤩 deserv...  Positive  \n",
       "3  (Translated by Google) There is a response to ...  Positive  \n",
       "4  (Translated by Google) The best pizza in the w...  Positive  "
      ]
     },
     "execution_count": 131,
     "metadata": {},
     "output_type": "execute_result"
    }
   ],
   "source": [
    "df = pd.read_csv('Data V3.csv')\n",
    "df.head()"
   ]
  },
  {
   "cell_type": "code",
   "execution_count": 132,
   "id": "cd96ac19",
   "metadata": {},
   "outputs": [],
   "source": [
    "import re\n",
    "\n",
    "def remove_emojis(text):\n",
    "  #print(text) # with emoji\n",
    "  emoji_pattern = re.compile(\"[\"\n",
    "          u\"\\U0001F600-\\U0001F64F\"  # emoticons\n",
    "          u\"\\U0001F300-\\U0001F5FF\"  # symbols & pictographs\n",
    "          u\"\\U0001F680-\\U0001F6FF\"  # transport & map symbols\n",
    "          u\"\\U0001F1E0-\\U0001F1FF\"  # flags (iOS)\n",
    "                            \"]+\", flags=re.UNICODE)\n",
    "  return emoji_pattern.sub(r'', text)"
   ]
  },
  {
   "cell_type": "code",
   "execution_count": 133,
   "id": "e5579ba8",
   "metadata": {},
   "outputs": [
    {
     "name": "stderr",
     "output_type": "stream",
     "text": [
      "[nltk_data] Downloading package punkt to\n",
      "[nltk_data]     C:\\Users\\Aziz\\AppData\\Roaming\\nltk_data...\n",
      "[nltk_data]   Package punkt is already up-to-date!\n",
      "[nltk_data] Downloading package stopwords to\n",
      "[nltk_data]     C:\\Users\\Aziz\\AppData\\Roaming\\nltk_data...\n",
      "[nltk_data]   Package stopwords is already up-to-date!\n",
      "[nltk_data] Downloading package wordnet to\n",
      "[nltk_data]     C:\\Users\\Aziz\\AppData\\Roaming\\nltk_data...\n",
      "[nltk_data]   Package wordnet is already up-to-date!\n"
     ]
    }
   ],
   "source": [
    "import re\n",
    "import emoji\n",
    "import nltk # for processing texts\n",
    "from nltk.corpus import stopwords # list of stop words\n",
    "nltk.download('punkt')\n",
    "nltk.download('stopwords')\n",
    "nltk.download('wordnet')\n",
    "\n",
    "def clean_text(text):\n",
    "    # Remove emoji\n",
    "    #text = remove_emojis(text)\n",
    "    # Remove special characters\n",
    "    text = re.sub(r'[^a-zA-Z\\s]', '', text)\n",
    "    # Convert to lowercase\n",
    "    text = text.lower()\n",
    "    # Remove multiple spaces\n",
    "    text = re.sub(r'\\s+', ' ', text)\n",
    "    \n",
    "    #text = ' '.join([word for word in text.split() if word not in stopwords.words(\"english\")]) # remove stop word\n",
    "    return text"
   ]
  },
  {
   "cell_type": "code",
   "execution_count": 134,
   "id": "d4203be8",
   "metadata": {},
   "outputs": [],
   "source": [
    "df['review'] = df['review'].apply(clean_text)"
   ]
  },
  {
   "cell_type": "code",
   "execution_count": 135,
   "id": "14454866",
   "metadata": {},
   "outputs": [
    {
     "data": {
      "text/plain": [
       "'translated by google the best pizza in the whole east original '"
      ]
     },
     "execution_count": 135,
     "metadata": {},
     "output_type": "execute_result"
    }
   ],
   "source": [
    "df['review'][4]"
   ]
  },
  {
   "cell_type": "code",
   "execution_count": 136,
   "id": "954fdd7b",
   "metadata": {},
   "outputs": [],
   "source": [
    "df['review'] = df['review'].str.replace('translated by google ', '')\n",
    "df['review'] = df['review'].str.replace(' original ', '')"
   ]
  },
  {
   "cell_type": "code",
   "execution_count": 137,
   "id": "89d35b16",
   "metadata": {},
   "outputs": [
    {
     "data": {
      "text/plain": [
       "'the best pizza in the whole east'"
      ]
     },
     "execution_count": 137,
     "metadata": {},
     "output_type": "execute_result"
    }
   ],
   "source": [
    "df['review'][4]"
   ]
  },
  {
   "cell_type": "code",
   "execution_count": 140,
   "id": "d3a94b38",
   "metadata": {},
   "outputs": [
    {
     "data": {
      "text/plain": [
       "name         0\n",
       "duration     0\n",
       "rating       0\n",
       "review       0\n",
       "sentiment    0\n",
       "dtype: int64"
      ]
     },
     "execution_count": 140,
     "metadata": {},
     "output_type": "execute_result"
    }
   ],
   "source": [
    "# counts of missing values in dataset \n",
    "df.isna().sum()"
   ]
  },
  {
   "cell_type": "code",
   "execution_count": 139,
   "id": "7d6d1178",
   "metadata": {},
   "outputs": [],
   "source": [
    "df.dropna(\n",
    "    axis=0,\n",
    "    how='any',\n",
    "    thresh=None,\n",
    "    subset=['name'],\n",
    "    inplace=True\n",
    ")"
   ]
  },
  {
   "cell_type": "code",
   "execution_count": 141,
   "id": "3655d8aa",
   "metadata": {},
   "outputs": [],
   "source": [
    "df.to_csv('Data Visualization.csv',index=False, encoding='utf-8-sig')"
   ]
  },
  {
   "cell_type": "code",
   "execution_count": 83,
   "id": "552e393d",
   "metadata": {},
   "outputs": [
    {
     "data": {
      "text/plain": [
       "<AxesSubplot:xlabel='sentiment', ylabel='count'>"
      ]
     },
     "execution_count": 83,
     "metadata": {},
     "output_type": "execute_result"
    },
    {
     "data": {
      "image/png": "[encoded data removed]",
      "text/plain": [
       "<Figure size 432x288 with 1 Axes>"
      ]
     },
     "metadata": {
      "needs_background": "light"
     },
     "output_type": "display_data"
    }
   ],
   "source": [
    "import seaborn as sns\n",
    "\n",
    "sns.countplot(df['sentiment'])"
   ]
  },
  {
   "cell_type": "markdown",
   "id": "dcf1538b",
   "metadata": {},
   "source": [
    "# Model"
   ]
  },
  {
   "cell_type": "code",
   "execution_count": 84,
   "id": "f8b34e08",
   "metadata": {},
   "outputs": [
    {
     "name": "stderr",
     "output_type": "stream",
     "text": [
      "[nltk_data] Downloading package punkt to\n",
      "[nltk_data]     C:\\Users\\Aziz\\AppData\\Roaming\\nltk_data...\n",
      "[nltk_data]   Package punkt is already up-to-date!\n",
      "[nltk_data] Downloading package stopwords to\n",
      "[nltk_data]     C:\\Users\\Aziz\\AppData\\Roaming\\nltk_data...\n",
      "[nltk_data]   Package stopwords is already up-to-date!\n",
      "[nltk_data] Downloading package wordnet to\n",
      "[nltk_data]     C:\\Users\\Aziz\\AppData\\Roaming\\nltk_data...\n",
      "[nltk_data]   Package wordnet is already up-to-date!\n"
     ]
    },
    {
     "data": {
      "text/plain": [
       "True"
      ]
     },
     "execution_count": 84,
     "metadata": {},
     "output_type": "execute_result"
    }
   ],
   "source": [
    "import warnings\n",
    "warnings.filterwarnings('ignore')\n",
    "import pandas as pd # for reading csv file\n",
    "import numpy as np\n",
    "import re # for preprocessing text\n",
    "import string # for preprocessing text\n",
    "from sklearn.feature_extraction.text import CountVectorizer # to create Bag of words\n",
    "from sklearn.model_selection import train_test_split  # for splitting data\n",
    "from sklearn.naive_bayes import GaussianNB # to build classifier model\n",
    "from sklearn.preprocessing import LabelEncoder # to convert classes to number \n",
    "from sklearn.metrics import accuracy_score # to calculate accuracy\n",
    "import nltk # for processing texts\n",
    "from nltk.corpus import stopwords # list of stop words\n",
    "nltk.download('punkt')\n",
    "nltk.download('stopwords')\n",
    "nltk.download('wordnet')"
   ]
  },
  {
   "cell_type": "code",
   "execution_count": 89,
   "id": "91915a9a",
   "metadata": {},
   "outputs": [
    {
     "data": {
      "text/plain": [
       "array([[0, 0, 0, ..., 0, 0, 0],\n",
       "       [0, 0, 0, ..., 0, 0, 0],\n",
       "       [0, 0, 0, ..., 0, 0, 0],\n",
       "       ...,\n",
       "       [0, 0, 0, ..., 0, 0, 0],\n",
       "       [0, 0, 0, ..., 0, 0, 0],\n",
       "       [0, 0, 0, ..., 0, 0, 0]], dtype=int64)"
      ]
     },
     "execution_count": 89,
     "metadata": {},
     "output_type": "execute_result"
    }
   ],
   "source": [
    "max_features = 1500\n",
    "count_vector = CountVectorizer(max_features = max_features)  \n",
    "X = count_vector.fit_transform(df['review']).toarray() \n",
    "X"
   ]
  },
  {
   "cell_type": "code",
   "execution_count": 90,
   "id": "32a12a6b",
   "metadata": {},
   "outputs": [
    {
     "name": "stdout",
     "output_type": "stream",
     "text": [
      "most using 1500 words: ['abdullah' 'able' 'absolutely' ... 'yusra' 'zain' 'zero'] \n"
     ]
    }
   ],
   "source": [
    "print(\"most using {} words: {} \".format(max_features, count_vector.get_feature_names_out()))"
   ]
  },
  {
   "cell_type": "code",
   "execution_count": 91,
   "id": "f6cc8209",
   "metadata": {},
   "outputs": [
    {
     "name": "stdout",
     "output_type": "stream",
     "text": [
      "{'beautiful': 109, 'restaurant': 1082, 'staff': 1245, 'original': 886, 'little': 697, 'overpriced': 896, 'delicious': 304, 'pizza': 942, 'deserves': 312, 'stars': 1252, 'response': 1080, 'owner': 898, 'regarding': 1051, 'prayer': 974, 'time': 1346, 'liked': 692, 'visit': 1413, 'best': 120, 'whole': 1453, 'east': 356, 'honestly': 576, 'nice': 838, 'dealing': 292, 'since': 1190, 'days': 289, 'previous': 988, 'small': 1204, 'branch': 141, 'tasty': 1315, 'meat': 771, 'pepperoni': 922, 'shish': 1175, 'tawook': 1316, 'one': 866, 'person': 929, 'wish': 1461, 'success': 1273, 'deserve': 311, 'five': 469, 'owners': 899, 'style': 1272, 'especially': 389, 'restaurants': 1083, 'god': 522, 'bless': 133, 'tasted': 1308, 'food': 478, 'jeddah': 635, 'give': 515, 'stomach': 1260, 'negative': 831, 'star': 1251, 'naimi': 818, 'something': 1215, 'fancy': 438, 'advise': 16, 'order': 879, 'comes': 229, 'reach': 1030, 'portions': 967, 'stop': 1261, 'spicy': 1238, 'egg': 365, 'sauce': 1132, 'goes': 523, 'well': 1443, 'cheese': 198, 'spinach': 1239, 'cooked': 250, 'perfection': 926, 'anything': 51, 'closed': 222, 'willing': 1457, 'come': 228, 'chicken': 203, 'fillet': 456, 'thank': 1331, 'management': 744, 'young': 1491, 'saudis': 1136, 'smile': 1208, 'high': 571, 'morals': 806, 'good': 527, 'ordered': 880, 'honey': 578, 'also': 37, 'fingers': 463, 'top': 1360, 'everything': 400, 'mashallah': 759, 'excellent': 406, 'wonderful': 1465, 'taste': 1307, 'experience': 415, 'repeated': 1064, 'workers': 1472, 'cooperation': 253, 'mean': 768, 'let': 685, 'may': 764, 'grace': 530, 'asked': 74, 'isfahani': 627, 'bitter': 130, 'thing': 1337, 'ok': 860, 'dolma': 339, 'sweet': 1289, 'similar': 1187, 'fatteh': 444, 'grape': 532, 'leaves': 679, 'important': 602, 'went': 1446, 'dishes': 333, 'ate': 77, 'saw': 1137, 'comment': 233, 'grant': 531, 'dough': 346, 'okay': 861, 'ingredients': 616, 'ordinary': 883, 'price': 989, 'quality': 1012, 'varieties': 1402, 'noticed': 850, 'mistake': 797, 'reservations': 1072, 'sat': 1126, 'although': 38, 'reservation': 1071, 'application': 55, 'turn': 1377, 'cool': 252, 'alfredo': 27, 'quinoa': 1021, 'salad': 1112, 'never': 834, 'gets': 511, 'tired': 1348, 'close': 221, 'tabbouleh': 1294, 'bad': 91, 'professional': 998, 'place': 945, 'comfortable': 231, 'quiet': 1020, 'even': 395, 'though': 1341, 'crowded': 274, 'last': 673, 'service': 1159, 'rather': 1028, 'poor': 964, 'clean': 217, 'atmosphere': 78, 'ive': 634, 'ever': 397, 'noisy': 842, 'suitable': 1278, 'love': 717, 'calm': 176, 'like': 691, 'margarita': 753, 'repeat': 1063, 'weekend': 1439, 'variety': 1403, 'orders': 882, 'half': 548, 'absolutely': 2, 'made': 730, 'south': 1229, 'pink': 941, 'pasta': 915, 'grilling': 538, 'dry': 351, 'risotto': 1095, 'didnt': 319, 'plate': 949, 'bit': 128, 'whoever': 1452, 'shop': 1177, 'renovation': 1061, 'new': 835, 'items': 633, 'menu': 780, 'interior': 623, 'still': 1259, 'highly': 573, 'recommend': 1043, 'set': 1164, 'standard': 1249, 'services': 1160, 'necessary': 826, 'book': 136, 'useful': 1397, 'employee': 373, 'worst': 1476, 'seen': 1151, 'luxurious': 727, 'waiting': 1425, 'list': 695, 'unfortunately': 1386, 'use': 1395, 'entering': 384, 'answered': 49, 'wait': 1421, 'answer': 48, 'size': 1198, 'compared': 235, 'looks': 709, 'asking': 75, 'employees': 374, 'comments': 234, 'special': 1234, 'tidy': 1344, 'treatment': 1368, 'classy': 216, 'music': 816, 'potatoes': 971, 'pass': 911, 'ordering': 881, 'worth': 1477, 'needs': 830, 'times': 1347, 'app': 52, 'full': 501, 'work': 1470, 'world': 1474, 'kingdom': 658, 'less': 684, 'normal': 845, 'real': 1033, 'customers': 282, 'none': 844, 'praise': 973, 'failed': 429, 'clear': 220, 'keep': 646, 'opened': 872, 'side': 1184, 'everywhere': 401, 'able': 1, 'havent': 556, 'reached': 1031, 'level': 687, 'wont': 1466, 'double': 344, 'money': 803, 'solution': 1213, 'wow': 1481, 'lord': 710, 'go': 520, 'back': 90, 'without': 1463, 'fast': 442, 'respectful': 1077, 'manner': 749, 'increase': 610, 'congratulate': 243, 'imaginary': 599, 'speed': 1236, 'preparing': 981, 'within': 1462, 'minutes': 792, 'ready': 1032, 'whether': 1450, 'old': 862, 'manners': 750, 'requests': 1069, 'great': 533, 'lamb': 670, 'many': 751, 'pepper': 921, 'first': 467, 'heard': 561, 'feel': 449, 'said': 1111, 'shocked': 1176, 'tried': 1370, 'almost': 32, 'completely': 238, 'different': 321, 'liver': 699, 'dont': 342, 'number': 852, 'play': 952, 'please': 955, 'honest': 575, 'excited': 409, 'got': 529, 'dish': 332, 'check': 196, 'people': 920, 'make': 739, 'sit': 1193, 'terrible': 1326, 'customer': 281, 'else': 371, 'helpful': 568, 'describe': 309, 'respected': 1076, 'always': 39, 'margherita': 754, 'imagination': 600, 'burrata': 165, 'basil': 103, 'drink': 349, 'bank': 98, 'sour': 1228, 'youth': 1494, 'prices': 991, 'family': 435, 'visiting': 1415, 'butter': 168, 'provide': 1002, 'greetings': 535, 'pizzas': 943, 'type': 1381, 'except': 407, 'required': 1070, 'exaggerated': 402, 'medium': 773, 'cola': 225, 'riyals': 1098, 'opinion': 875, 'present': 983, 'elegant': 370, 'dealings': 293, 'strongly': 1269, 'town': 1363, 'places': 946, 'leave': 678, 'happy': 554, 'host': 584, 'along': 34, 'crew': 271, 'african': 18, 'im': 598, 'sure': 1285, 'enjoy': 378, 'expensive': 414, 'reason': 1035, 'saudi': 1135, 'waiter': 1423, 'see': 1149, 'frankly': 488, 'surprised': 1286, 'vegetable': 1405, 'manager': 745, 'respect': 1074, 'finally': 459, 'importantly': 603, 'return': 1085, 'olive': 864, 'oil': 858, 'somewhat': 1217, 'evaluation': 394, 'introduction': 626, 'lack': 667, 'narrow': 821, 'families': 434, 'take': 1299, 'comfort': 230, 'much': 812, 'sessions': 1163, 'men': 777, 'privacy': 994, 'mushroom': 814, 'drinks': 350, 'passion': 913, 'sweeter': 1290, 'next': 837, 'whose': 1454, 'based': 101, 'interested': 622, 'details': 317, 'cleanliness': 219, 'etc': 391, 'known': 662, 'long': 704, 'every': 398, 'tastier': 1312, 'amazing': 40, 'seats': 1146, 'reasonable': 1036, 'children': 205, 'allowed': 31, 'alkhobar': 29, 'terms': 1325, 'professor': 1000, 'would': 1479, 'eating': 361, 'reception': 1041, 'problem': 997, 'brother': 153, 'exaggeration': 403, 'know': 660, 'day': 288, 'gave': 506, 'bill': 125, 'told': 1354, 'impossible': 604, 'anyone': 50, 'two': 1380, 'famous': 436, 'rest': 1081, 'limited': 693, 'options': 877, 'kind': 654, 'city': 213, 'really': 1034, 'costs': 258, 'average': 84, 'around': 64, 'sr': 1244, 'definitely': 300, 'trying': 1374, 'try': 1373, 'despite': 314, 'crowds': 276, 'rated': 1027, 'course': 262, 'distinguished': 336, 'took': 1359, 'kinds': 656, 'personal': 930, 'arrangement': 66, 'opening': 873, 'tables': 1296, 'receiving': 1039, 'receive': 1037, 'waste': 1434, 'means': 770, 'abdullah': 0, 'right': 1094, 'hello': 565, 'waited': 1422, 'came': 177, 'started': 1254, 'bring': 147, 'brought': 155, 'account': 8, 'table': 1295, 'another': 47, 'supervisor': 1283, 'explained': 418, 'delay': 302, 'available': 83, 'request': 1067, 'delayed': 303, 'short': 1179, 'acceptable': 5, 'end': 376, 'week': 1438, 'flavor': 471, 'considered': 245, 'quantity': 1014, 'today': 1350, 'vegetables': 1406, 'way': 1436, 'could': 259, 'say': 1138, 'demand': 308, 'finished': 465, 'yummy': 1496, 'thanks': 1332, 'making': 742, 'meal': 766, 'truffle': 1372, 'awesome': 89, 'drawback': 348, 'meaning': 769, 'behind': 117, 'eggplant': 366, 'area': 61, 'get': 510, 'recommended': 1046, 'serves': 1158, 'hour': 586, 'us': 1394, 'arrived': 68, 'favourite': 447, 'open': 871, 'branches': 142, 'beauty': 110, 'changed': 189, 'horrible': 581, 'three': 1343, 'walked': 1428, 'served': 1155, 'inside': 618, 'phone': 933, 'looked': 707, 'wasnt': 1433, 'busy': 167, 'must': 817, 'better': 121, 'arrive': 67, 'avoid': 87, 'strips': 1267, 'fire': 466, 'idea': 596, 'types': 1382, 'fat': 443, 'second': 1147, 'appetizers': 54, 'expect': 411, 'water': 1435, 'often': 856, 'sophisticated': 1221, 'wellness': 1445, 'crowd': 273, 'luck': 725, 'picture': 936, 'general': 507, 'heart': 562, 'regular': 1054, 'loved': 718, 'eat': 359, 'decoration': 298, 'location': 703, 'late': 674, 'four': 487, 'among': 44, 'wings': 1458, 'flavors': 472, 'generally': 508, 'rich': 1093, 'sizes': 1199, 'saturated': 1131, 'higher': 572, 'shops': 1178, 'design': 313, 'mojito': 802, 'big': 123, 'swear': 1288, 'note': 847, 'crazy': 267, 'visited': 1414, 'twice': 1379, 'innovative': 617, 'overall': 894, 'ambiance': 41, 'welcoming': 1442, 'extremely': 422, 'recommendations': 1045, 'favorite': 446, 'choice': 208, 'unique': 1387, 'tender': 1323, 'soon': 1220, 'word': 1468, 'respond': 1079, 'italy': 631, 'white': 1451, 'house': 588, 'need': 827, 'maybe': 765, 'yet': 1490, 'enter': 382, 'says': 1140, 'used': 1396, 'excuse': 410, 'accept': 4, 'italian': 630, 'quarter': 1015, 'suit': 1277, 'uncomfortable': 1384, 'quite': 1022, 'ambience': 42, 'youre': 1492, 'mozzarella': 810, 'found': 485, 'however': 589, 'believe': 118, 'due': 353, 'might': 786, 'spot': 1243, 'others': 888, 'lacks': 668, 'tomato': 1356, 'eastern': 357, 'province': 1007, 'hope': 580, 'added': 11, 'filling': 458, 'amount': 45, 'pieces': 939, 'crispy': 272, 'fries': 497, 'sauces': 1133, 'fried': 493, 'pepsi': 923, 'cooperative': 254, 'choices': 209, 'ahmed': 22, 'night': 840, 'polite': 962, 'advice': 15, 'continue': 248, 'become': 112, 'text': 1329, 'brothers': 154, 'fault': 445, 'attention': 79, 'staffs': 1246, 'kindness': 655, 'spacious': 1232, 'sun': 1280, 'characterized': 190, 'lemon': 682, 'juice': 639, 'refreshing': 1049, 'respectable': 1075, 'finest': 462, 'friendly': 495, 'loves': 722, 'soul': 1224, 'romance': 1102, 'call': 174, 'voice': 1418, 'true': 1371, 'dessert': 315, 'mint': 791, 'fresh': 491, 'hot': 585, 'cold': 226, 'overrated': 897, 'plenty': 958, 'want': 1429, 'friends': 496, 'doesnt': 338, 'match': 761, 'complete': 237, 'live': 698, 'review': 1087, 'expectations': 412, 'disappointed': 328, 'tastes': 1311, 'garlic': 505, 'light': 689, 'outside': 891, 'pesto': 932, 'indian': 613, 'spices': 1237, 'slow': 1203, 'charge': 192, 'called': 175, 'situation': 1197, 'sense': 1153, 'name': 819, 'sharqia': 1173, 'dealt': 294, 'magnificence': 733, 'probably': 996, 'possible': 969, 'annoying': 46, 'decor': 296, 'miss': 794, 'home': 574, 'ones': 867, 'literally': 696, 'perfect': 925, 'cheerful': 197, 'deal': 291, 'non': 843, 'traditional': 1364, 'region': 1052, 'relation': 1055, 'find': 460, 'sweets': 1292, 'think': 1339, 'improve': 605, 'session': 1162, 'neighborhood': 832, 'talking': 1304, 'otherwise': 889, 'salads': 1113, 'explanation': 419, 'flavour': 473, 'chose': 211, 'distinctive': 335, 'khobar': 651, 'mix': 798, 'bigger': 124, 'refused': 1050, 'put': 1011, 'rude': 1106, 'matter': 763, 'everyone': 399, 'mr': 811, 'al': 25, 'wins': 1459, 'range': 1024, 'presentation': 984, 'least': 677, 'child': 204, 'wants': 1431, 'alone': 33, 'third': 1340, 'life': 688, 'cheap': 193, 'strong': 1268, 'ask': 73, 'working': 1473, 'advance': 13, 'regret': 1053, 'rare': 1025, 'tactful': 1297, 'job': 638, 'hard': 555, 'satisfaction': 1127, 'hero': 570, 'far': 441, 'according': 7, 'change': 188, 'someone': 1214, 'front': 498, 'simply': 1189, 'knowing': 661, 'issue': 629, 'wouldnt': 1480, 'words': 1469, 'standing': 1250, 'door': 343, 'saying': 1139, 'happened': 553, 'repeating': 1065, 'development': 318, 'test': 1327, 'appropriate': 58, 'upscale': 1392, 'presence': 982, 'treated': 1367, 'behavior': 116, 'opens': 874, 'breath': 146, 'wrong': 1483, 'soft': 1212, 'cant': 179, 'tell': 1319, 'makes': 740, 'particular': 908, 'pleased': 956, 'quick': 1018, 'point': 961, 'view': 1411, 'smell': 1206, 'waiters': 1424, 'dining': 324, 'outstanding': 892, 'nothing': 849, 'group': 541, 'spaghetti': 1233, 'environment': 388, 'decorations': 299, 'years': 1486, 'creamy': 269, 'feels': 451, 'system': 1293, 'empty': 375, 'guests': 542, 'treats': 1369, 'nicely': 839, 'store': 1262, 'wood': 1467, 'tastiest': 1313, 'shame': 1169, 'inconvenience': 609, 'booked': 137, 'coming': 232, 'honesty': 577, 'bite': 129, 'sophistication': 1222, 'appreciation': 57, 'visits': 1417, 'playing': 953, 'songs': 1218, 'worthy': 1478, 'ten': 1322, 'parking': 905, 'spaces': 1231, 'pay': 916, 'authentic': 82, 'courteous': 263, 'respects': 1078, 'deliciousness': 306, 'turned': 1378, 'hours': 587, 'theres': 1334, 'appreciate': 56, 'organized': 885, 'understand': 1385, 'pleasure': 957, 'nuggets': 851, 'mouth': 809, 'forgot': 483, 'smoked': 1211, 'bbq': 106, 'organization': 884, 'plastic': 948, 'buffalo': 159, 'cramped': 266, 'ill': 597, 'balanced': 96, 'tasteful': 1309, 'club': 223, 'wanted': 1430, 'early': 355, 'preparation': 978, 'fabulous': 425, 'fantastic': 439, 'lovers': 721, 'expected': 413, 'going': 524, 'fruit': 500, 'desserts': 316, 'priced': 990, 'cozy': 265, 'option': 876, 'arabia': 59, 'salty': 1116, 'fine': 461, 'rating': 1029, 'meet': 774, 'serving': 1161, 'id': 595, 'chips': 206, 'sweetest': 1291, 'enjoyable': 379, 'strange': 1264, 'actually': 9, 'distinct': 334, 'dangerous': 286, 'peace': 918, 'upon': 1391, 'eaten': 360, 'guys': 546, 'super': 1281, 'alot': 35, 'including': 608, 'offer': 853, 'friend': 494, 'free': 489, 'passed': 912, 'goat': 521, 'news': 836, 'rate': 1026, 'zero': 1499, 'natural': 823, 'head': 557, 'away': 88, 'became': 111, 'knows': 663, 'professionalism': 999, 'forget': 482, 'experiences': 417, 'story': 1263, 'add': 10, 'extra': 421, 'improvement': 607, 'fair': 430, 'easy': 358, 'talk': 1303, 'future': 504, 'prepared': 980, 'riyadh': 1096, 'doubt': 345, 'allah': 30, 'chef': 201, 'serve': 1154, 'part': 907, 'lovely': 719, 'bought': 138, 'ali': 28, 'entered': 383, 'satisfying': 1130, 'satisfy': 1129, 'handling': 551, 'welcome': 1441, 'taken': 1300, 'bringing': 148, 'juicy': 641, 'lunch': 726, 'lighting': 690, 'soups': 1227, 'discount': 330, 'treat': 1366, 'salt': 1115, 'increased': 611, 'arranged': 65, 'lost': 712, 'varied': 1401, 'specially': 1235, 'vibes': 1409, 'smiling': 1209, 'creative': 270, 'testimony': 1328, 'providing': 1006, 'neither': 833, 'quantities': 1013, 'cooking': 251, 'luxury': 728, 'smells': 1207, 'supposed': 1284, 'decent': 295, 'usually': 1399, 'consistent': 246, 'addition': 12, 'masha': 758, 'local': 701, 'prepare': 979, 'man': 743, 'helped': 567, 'choose': 210, 'recommendation': 1044, 'finish': 464, 'quickly': 1019, 'left': 681, 'together': 1351, 'oily': 859, 'remember': 1058, 'takes': 1301, 'care': 183, 'things': 1338, 'car': 181, 'exceptional': 408, 'relatively': 1056, 'hygiene': 593, 'taking': 1302, 'blessing': 134, 'mentioned': 779, 'method': 783, 'prefer': 975, 'wide': 1455, 'usual': 1398, 'face': 426, 'partition': 909, 'travel': 1365, 'delivery': 307, 'ruined': 1107, 'hear': 560, 'eyes': 424, 'saud': 1134, 'color': 227, 'brown': 156, 'beef': 113, 'hospitality': 583, 'low': 723, 'following': 477, 'offered': 854, 'lot': 713, 'min': 788, 'filipino': 455, 'looking': 708, 'queue': 1017, 'gives': 517, 'totally': 1361, 'sides': 1185, 'pretty': 987, 'line': 694, 'rice': 1092, 'superb': 1282, 'cost': 257, 'value': 1400, 'paying': 917, 'beginning': 115, 'classic': 215, 'thin': 1336, 'appetizer': 53, 'fillets': 457, 'help': 566, 'requested': 1068, 'crunchy': 277, 'mixed': 799, 'signature': 1186, 'paper': 903, 'suggest': 1276, 'named': 820, 'mushrooms': 815, 'tomatoes': 1357, 'olives': 865, 'sandwiches': 1123, 'girls': 514, 'afternoon': 19, 'evening': 396, 'team': 1318, 'improved': 606, 'khaled': 650, 'sufficient': 1274, 'preferable': 976, 'large': 671, 'done': 341, 'selection': 1152, 'positive': 968, 'felt': 452, 'past': 914, 'pressure': 986, 'loud': 716, 'difficult': 322, 'either': 369, 'heavy': 564, 'bread': 143, 'generous': 509, 'eye': 423, 'temperature': 1321, 'piece': 938, 'look': 706, 'cut': 283, 'year': 1485, 'tasting': 1314, 'fact': 427, 'abu': 3, 'artist': 69, 'start': 1253, 'yes': 1488, 'cuisine': 278, 'thousand': 1342, 'whats': 1448, 'needless': 829, 'confused': 242, 'personally': 931, 'hospitable': 582, 'enough': 381, 'peak': 919, 'stay': 1255, 'returned': 1086, 'received': 1038, 'air': 23, 'conditioning': 241, 'ethics': 392, 'instead': 620, 'longer': 705, 'stuff': 1270, 'tea': 1317, 'coffee': 224, 'worker': 1471, 'health': 558, 'advantage': 14, 'notch': 846, 'dine': 323, 'hands': 552, 'cashier': 184, 'splendor': 1241, 'receptionist': 1042, 'unprofessional': 1389, 'excellence': 405, 'consider': 244, 'indoor': 615, 'outdoor': 890, 'breakfast': 144, 'sandwich': 1122, 'falafel': 432, 'counter': 261, 'burgers': 163, 'vegetarian': 1407, 'mostly': 808, 'albaik': 26, 'popular': 965, 'middle': 784, 'affordable': 17, 'broasted': 151, 'fish': 468, 'shrimps': 1183, 'safety': 1109, 'covid': 264, 'enjoyed': 380, 'guy': 545, 'dammam': 285, 'space': 1230, 'kept': 648, 'imagine': 601, 'french': 490, 'bahrain': 92, 'broast': 150, 'setting': 1165, 'neat': 825, 'proper': 1001, 'sitting': 1196, 'baik': 93, 'burger': 162, 'sometimes': 1216, 'weekends': 1440, 'servers': 1157, 'period': 928, 'pm': 960, 'midnight': 785, 'morning': 807, 'fan': 437, 'update': 1390, 'friday': 492, 'shrimp': 1182, 'currently': 280, 'mind': 789, 'given': 516, 'deliciously': 305, 'attentive': 80, 'recently': 1040, 'entrance': 386, 'chain': 186, 'female': 453, 'ladies': 669, 'fall': 433, 'heat': 563, 'perfectly': 927, 'couldnt': 260, 'pricey': 992, 'rush': 1108, 'ksa': 664, 'item': 632, 'sea': 1141, 'foods': 479, 'section': 1148, 'forward': 484, 'brosted': 152, 'worse': 1475, 'missing': 796, 'noise': 841, 'black': 131, 'accommodating': 6, 'cheapest': 195, 'beyond': 122, 'share': 1171, 'already': 36, 'winter': 1460, 'multiple': 813, 'getting': 512, 'american': 43, 'business': 166, 'months': 805, 'huge': 590, 'kitchen': 659, 'attitude': 81, 'disgusting': 331, 'cook': 249, 'main': 734, 'memories': 776, 'sar': 1125, 'seems': 1150, 'lots': 714, 'kfc': 649, 'buy': 169, 'stand': 1248, 'ago': 21, 'cheaper': 194, 'minimum': 790, 'chairs': 187, 'located': 702, 'directly': 326, 'glass': 519, 'near': 824, 'box': 140, 'th': 1330, 'needed': 828, 'meals': 767, 'king': 657, 'international': 625, 'cannot': 178, 'month': 804, 'hand': 550, 'sound': 1225, 'entry': 387, 'maintain': 735, 'soo': 1219, 'lover': 720, 'thats': 1333, 'seafood': 1142, 'date': 287, 'eats': 362, 'online': 870, 'example': 404, 'menus': 781, 'hummus': 591, 'corn': 255, 'competitors': 236, 'reviews': 1088, 'seasoning': 1144, 'mention': 778, 'sorry': 1223, 'ice': 594, 'cream': 268, 'per': 924, 'cup': 279, 'burnt': 164, 'gulf': 544, 'onion': 868, 'class': 214, 'seating': 1145, 'entire': 385, 'paid': 900, 'power': 972, 'downside': 347, 'single': 1191, 'roll': 1100, 'kids': 653, 'road': 1099, 'difference': 320, 'turkey': 1375, 'tasteless': 1310, 'platter': 951, 'western': 1447, 'hungry': 592, 'wife': 1456, 'smaller': 1205, 'feeling': 450, 'riyal': 1097, 'isnt': 628, 'dinner': 325, 'women': 1464, 'national': 822, 'arabic': 60, 'moderate': 801, 'healthy': 559, 'wellknown': 1444, 'yesterday': 1489, 'plus': 959, 'disappointing': 329, 'bland': 132, 'ramadan': 1023, 'offers': 855, 'masala': 757, 'mac': 729, 'oh': 857, 'provided': 1003, 'google': 528, 'giving': 518, 'corniche': 256, 'ur': 1393, 'shows': 1181, 'pick': 935, 'cake': 172, 'show': 1180, 'dirty': 327, 'satisfied': 1128, 'whenever': 1449, 'summer': 1279, 'mark': 755, 'breast': 145, 'warm': 1432, 'resturant': 1084, 'eid': 368, 'unlike': 1388, 'tomorrow': 1358, 'romantic': 1103, 'mandi': 747, 'lower': 724, 'crowding': 275, 'meats': 772, 'removed': 1059, 'kabsa': 642, 'spoke': 1242, 'grills': 539, 'oven': 893, 'madhbi': 732, 'samosa': 1120, 'bone': 135, 'flat': 470, 'tough': 1362, 'tells': 1320, 'grilled': 537, 'cleaning': 218, 'rooms': 1105, 'individuals': 614, 'write': 1482, 'portion': 966, 'red': 1047, 'kunafa': 665, 'toilets': 1353, 'grill': 536, 'gone': 526, 'bathrooms': 105, 'pricy': 993, 'biryani': 127, 'eggs': 367, 'site': 1194, 'room': 1104, 'green': 534, 'avocado': 86, 'contains': 247, 'simple': 1188, 'floor': 475, 'private': 995, 'milk': 787, 'ground': 540, 'kebab': 645, 'soup': 1226, 'potato': 970, 'barbecue': 100, 'forbidden': 480, 'juices': 640, 'frozen': 499, 'reputation': 1066, 'visitors': 1416, 'bukhari': 161, 'asks': 76, 'sugar': 1275, 'bathroom': 104, 'decorated': 297, 'majboos': 738, 'seasoned': 1143, 'maintains': 736, 'several': 1166, 'charcoal': 191, 'lose': 711, 'walk': 1427, 'shape': 1170, 'experienced': 416, 'forever': 481, 'armenian': 62, 'kibbeh': 652, 'salmon': 1114, 'beetroot': 114, 'armin': 63, 'relaxing': 1057, 'pumpkin': 1009, 'rolls': 1101, 'stuffed': 1271, 'pleasant': 954, 'views': 1412, 'pictures': 937, 'cherry': 202, 'fettuccine': 454, 'parmesan': 906, 'lentil': 683, 'ribs': 1091, 'overlooking': 895, 'umm': 1383, 'instagram': 619, 'vibe': 1408, 'lasagna': 672, 'cafe': 171, 'hair': 547, 'pomegranate': 963, 'external': 420, 'description': 310, 'zain': 1498, 'turkish': 1376, 'weather': 1437, 'internal': 624, 'diverse': 337, 'fantasy': 440, 'baked': 95, 'plain': 947, 'caesar': 170, 'providers': 1005, 'lebanese': 680, 'steak': 1256, 'cheesecake': 199, 'mango': 748, 'met': 782, 'maintenance': 737, 'orange': 878, 'tariq': 1306, 'pineapple': 940, 'halloumi': 549, 'strawberry': 1265, 'furniture': 503, 'fountain': 486, 'plates': 950, 'degree': 301, 'reduce': 1048, 'stake': 1247, 'buffet': 160, 'server': 1156, 'later': 675, 'tenderloin': 1324, 'emman': 372, 'ostrich': 887, 'de': 290, 'various': 1404, 'street': 1266, 'slices': 1200, 'brisket': 149, 'notes': 848, 'saffron': 1110, 'sushi': 1287, 'chocolate': 207, 'bar': 99, 'balls': 97, 'caramel': 182, 'girl': 513, 'party': 910, 'presented': 985, 'beans': 108, 'maryam': 756, 'interest': 621, 'missed': 795, 'honors': 579, 'boutique': 139, 'slider': 1201, 'dynamite': 354, 'wagyu': 1420, 'sliders': 1202, 'ajdan': 24, 'maple': 752, 'reserve': 1073, 'cekhar': 185, 'yasser': 1484, 'sister': 1192, 'floors': 476, 'toilet': 1352, 'onions': 869, 'complex': 239, 'premium': 977, 'sharing': 1172, 'provider': 1004, 'birthday': 126, 'brownie': 157, 'fun': 502, 'toast': 1349, 'lettuce': 686, 'la': 666, 'pudding': 1008, 'renewed': 1060, 'yum': 1495, 'oldest': 863, 'english': 377, 'evaluate': 393, 'mashed': 760, 'ribeye': 1090, 'maki': 741, 'rib': 1089, 'samuel': 1121, 'edward': 364, 'eduard': 363, 'jerome': 636, 'sam': 1117, 'cute': 284, 'renz': 1062, 'waffle': 1419, 'vicky': 1410, 'shakshouka': 1167, 'waitress': 1426, 'spirit': 1240, 'cappuccino': 180, 'shakshuka': 1168, 'karak': 644, 'tandoori': 1305, 'pizzeria': 944, 'dominica': 340, 'smoke': 1210, 'flies': 474, 'yemeni': 1487, 'hen': 569, 'kentucky': 647, 'cilantro': 212, 'brunch': 158, 'lobster': 700, 'gondola': 525, 'santosh': 1124, 'latte': 676, 'complimentary': 240, 'steaks': 1258, 'madeleine': 731, 'benedict': 119, 'pancakes': 902, 'cakes': 173, 'pancake': 901, 'factory': 428, 'dubai': 352, 'tahini': 1298, 'queen': 1016, 'india': 612, 'mizo': 800, 'miso': 793, 'guilbert': 543, 'melvin': 775, 'bake': 94, 'sami': 1119, 'bashar': 102, 'tikka': 1345, 'lotus': 715, 'beach': 107, 'ashraf': 72, 'parkers': 904, 'matilda': 762, 'cheetos': 200, 'piatto': 934, 'steakhouse': 1257, 'jivi': 637, 'ashish': 71, 'kamal': 643, 'pushkar': 1010, 'feast': 448, 'shawaya': 1174, 'avo': 85, 'espetada': 390, 'tomahawk': 1355, 'arun': 70, 'aged': 20, 'yusra': 1497, 'yousra': 1493, 'samar': 1118, 'manal': 746, 'faisal': 431, 'thermo': 1335, 'sitora': 1195}\n"
     ]
    }
   ],
   "source": [
    "print(count_vector.vocabulary_)"
   ]
  },
  {
   "cell_type": "code",
   "execution_count": 92,
   "id": "493ef216",
   "metadata": {},
   "outputs": [
    {
     "data": {
      "text/html": [
       "<div>\n",
       "<style scoped>\n",
       "    .dataframe tbody tr th:only-of-type {\n",
       "        vertical-align: middle;\n",
       "    }\n",
       "\n",
       "    .dataframe tbody tr th {\n",
       "        vertical-align: top;\n",
       "    }\n",
       "\n",
       "    .dataframe thead th {\n",
       "        text-align: right;\n",
       "    }\n",
       "</style>\n",
       "<table border=\"1\" class=\"dataframe\">\n",
       "  <thead>\n",
       "    <tr style=\"text-align: right;\">\n",
       "      <th></th>\n",
       "      <th>abdullah</th>\n",
       "      <th>able</th>\n",
       "      <th>absolutely</th>\n",
       "      <th>abu</th>\n",
       "      <th>accept</th>\n",
       "      <th>acceptable</th>\n",
       "      <th>accommodating</th>\n",
       "      <th>according</th>\n",
       "      <th>account</th>\n",
       "      <th>actually</th>\n",
       "      <th>...</th>\n",
       "      <th>yet</th>\n",
       "      <th>young</th>\n",
       "      <th>youre</th>\n",
       "      <th>yousra</th>\n",
       "      <th>youth</th>\n",
       "      <th>yum</th>\n",
       "      <th>yummy</th>\n",
       "      <th>yusra</th>\n",
       "      <th>zain</th>\n",
       "      <th>zero</th>\n",
       "    </tr>\n",
       "  </thead>\n",
       "  <tbody>\n",
       "    <tr>\n",
       "      <th>0</th>\n",
       "      <td>0</td>\n",
       "      <td>0</td>\n",
       "      <td>0</td>\n",
       "      <td>0</td>\n",
       "      <td>0</td>\n",
       "      <td>0</td>\n",
       "      <td>0</td>\n",
       "      <td>0</td>\n",
       "      <td>0</td>\n",
       "      <td>0</td>\n",
       "      <td>...</td>\n",
       "      <td>0</td>\n",
       "      <td>0</td>\n",
       "      <td>0</td>\n",
       "      <td>0</td>\n",
       "      <td>0</td>\n",
       "      <td>0</td>\n",
       "      <td>0</td>\n",
       "      <td>0</td>\n",
       "      <td>0</td>\n",
       "      <td>0</td>\n",
       "    </tr>\n",
       "    <tr>\n",
       "      <th>1</th>\n",
       "      <td>0</td>\n",
       "      <td>0</td>\n",
       "      <td>0</td>\n",
       "      <td>0</td>\n",
       "      <td>0</td>\n",
       "      <td>0</td>\n",
       "      <td>0</td>\n",
       "      <td>0</td>\n",
       "      <td>0</td>\n",
       "      <td>0</td>\n",
       "      <td>...</td>\n",
       "      <td>0</td>\n",
       "      <td>0</td>\n",
       "      <td>0</td>\n",
       "      <td>0</td>\n",
       "      <td>0</td>\n",
       "      <td>0</td>\n",
       "      <td>0</td>\n",
       "      <td>0</td>\n",
       "      <td>0</td>\n",
       "      <td>0</td>\n",
       "    </tr>\n",
       "    <tr>\n",
       "      <th>2</th>\n",
       "      <td>0</td>\n",
       "      <td>0</td>\n",
       "      <td>0</td>\n",
       "      <td>0</td>\n",
       "      <td>0</td>\n",
       "      <td>0</td>\n",
       "      <td>0</td>\n",
       "      <td>0</td>\n",
       "      <td>0</td>\n",
       "      <td>0</td>\n",
       "      <td>...</td>\n",
       "      <td>0</td>\n",
       "      <td>0</td>\n",
       "      <td>0</td>\n",
       "      <td>0</td>\n",
       "      <td>0</td>\n",
       "      <td>0</td>\n",
       "      <td>0</td>\n",
       "      <td>0</td>\n",
       "      <td>0</td>\n",
       "      <td>0</td>\n",
       "    </tr>\n",
       "    <tr>\n",
       "      <th>3</th>\n",
       "      <td>0</td>\n",
       "      <td>0</td>\n",
       "      <td>0</td>\n",
       "      <td>0</td>\n",
       "      <td>0</td>\n",
       "      <td>0</td>\n",
       "      <td>0</td>\n",
       "      <td>0</td>\n",
       "      <td>0</td>\n",
       "      <td>0</td>\n",
       "      <td>...</td>\n",
       "      <td>0</td>\n",
       "      <td>0</td>\n",
       "      <td>0</td>\n",
       "      <td>0</td>\n",
       "      <td>0</td>\n",
       "      <td>0</td>\n",
       "      <td>0</td>\n",
       "      <td>0</td>\n",
       "      <td>0</td>\n",
       "      <td>0</td>\n",
       "    </tr>\n",
       "    <tr>\n",
       "      <th>4</th>\n",
       "      <td>0</td>\n",
       "      <td>0</td>\n",
       "      <td>0</td>\n",
       "      <td>0</td>\n",
       "      <td>0</td>\n",
       "      <td>0</td>\n",
       "      <td>0</td>\n",
       "      <td>0</td>\n",
       "      <td>0</td>\n",
       "      <td>0</td>\n",
       "      <td>...</td>\n",
       "      <td>0</td>\n",
       "      <td>0</td>\n",
       "      <td>0</td>\n",
       "      <td>0</td>\n",
       "      <td>0</td>\n",
       "      <td>0</td>\n",
       "      <td>0</td>\n",
       "      <td>0</td>\n",
       "      <td>0</td>\n",
       "      <td>0</td>\n",
       "    </tr>\n",
       "    <tr>\n",
       "      <th>...</th>\n",
       "      <td>...</td>\n",
       "      <td>...</td>\n",
       "      <td>...</td>\n",
       "      <td>...</td>\n",
       "      <td>...</td>\n",
       "      <td>...</td>\n",
       "      <td>...</td>\n",
       "      <td>...</td>\n",
       "      <td>...</td>\n",
       "      <td>...</td>\n",
       "      <td>...</td>\n",
       "      <td>...</td>\n",
       "      <td>...</td>\n",
       "      <td>...</td>\n",
       "      <td>...</td>\n",
       "      <td>...</td>\n",
       "      <td>...</td>\n",
       "      <td>...</td>\n",
       "      <td>...</td>\n",
       "      <td>...</td>\n",
       "      <td>...</td>\n",
       "    </tr>\n",
       "    <tr>\n",
       "      <th>22165</th>\n",
       "      <td>0</td>\n",
       "      <td>0</td>\n",
       "      <td>0</td>\n",
       "      <td>0</td>\n",
       "      <td>0</td>\n",
       "      <td>0</td>\n",
       "      <td>0</td>\n",
       "      <td>0</td>\n",
       "      <td>0</td>\n",
       "      <td>0</td>\n",
       "      <td>...</td>\n",
       "      <td>0</td>\n",
       "      <td>0</td>\n",
       "      <td>0</td>\n",
       "      <td>0</td>\n",
       "      <td>0</td>\n",
       "      <td>0</td>\n",
       "      <td>0</td>\n",
       "      <td>0</td>\n",
       "      <td>0</td>\n",
       "      <td>0</td>\n",
       "    </tr>\n",
       "    <tr>\n",
       "      <th>22166</th>\n",
       "      <td>0</td>\n",
       "      <td>0</td>\n",
       "      <td>0</td>\n",
       "      <td>0</td>\n",
       "      <td>0</td>\n",
       "      <td>0</td>\n",
       "      <td>0</td>\n",
       "      <td>0</td>\n",
       "      <td>0</td>\n",
       "      <td>0</td>\n",
       "      <td>...</td>\n",
       "      <td>0</td>\n",
       "      <td>0</td>\n",
       "      <td>0</td>\n",
       "      <td>0</td>\n",
       "      <td>0</td>\n",
       "      <td>0</td>\n",
       "      <td>0</td>\n",
       "      <td>0</td>\n",
       "      <td>0</td>\n",
       "      <td>0</td>\n",
       "    </tr>\n",
       "    <tr>\n",
       "      <th>22167</th>\n",
       "      <td>0</td>\n",
       "      <td>0</td>\n",
       "      <td>0</td>\n",
       "      <td>0</td>\n",
       "      <td>0</td>\n",
       "      <td>0</td>\n",
       "      <td>0</td>\n",
       "      <td>0</td>\n",
       "      <td>0</td>\n",
       "      <td>0</td>\n",
       "      <td>...</td>\n",
       "      <td>0</td>\n",
       "      <td>0</td>\n",
       "      <td>0</td>\n",
       "      <td>0</td>\n",
       "      <td>0</td>\n",
       "      <td>0</td>\n",
       "      <td>0</td>\n",
       "      <td>0</td>\n",
       "      <td>0</td>\n",
       "      <td>0</td>\n",
       "    </tr>\n",
       "    <tr>\n",
       "      <th>22168</th>\n",
       "      <td>0</td>\n",
       "      <td>0</td>\n",
       "      <td>0</td>\n",
       "      <td>0</td>\n",
       "      <td>0</td>\n",
       "      <td>0</td>\n",
       "      <td>0</td>\n",
       "      <td>0</td>\n",
       "      <td>0</td>\n",
       "      <td>0</td>\n",
       "      <td>...</td>\n",
       "      <td>0</td>\n",
       "      <td>0</td>\n",
       "      <td>0</td>\n",
       "      <td>0</td>\n",
       "      <td>0</td>\n",
       "      <td>0</td>\n",
       "      <td>0</td>\n",
       "      <td>0</td>\n",
       "      <td>0</td>\n",
       "      <td>0</td>\n",
       "    </tr>\n",
       "    <tr>\n",
       "      <th>22169</th>\n",
       "      <td>0</td>\n",
       "      <td>0</td>\n",
       "      <td>0</td>\n",
       "      <td>0</td>\n",
       "      <td>0</td>\n",
       "      <td>0</td>\n",
       "      <td>0</td>\n",
       "      <td>0</td>\n",
       "      <td>0</td>\n",
       "      <td>0</td>\n",
       "      <td>...</td>\n",
       "      <td>0</td>\n",
       "      <td>0</td>\n",
       "      <td>0</td>\n",
       "      <td>0</td>\n",
       "      <td>0</td>\n",
       "      <td>0</td>\n",
       "      <td>0</td>\n",
       "      <td>0</td>\n",
       "      <td>0</td>\n",
       "      <td>0</td>\n",
       "    </tr>\n",
       "  </tbody>\n",
       "</table>\n",
       "<p>22170 rows × 1500 columns</p>\n",
       "</div>"
      ],
      "text/plain": [
       "       abdullah  able  absolutely  abu  accept  acceptable  accommodating  \\\n",
       "0             0     0           0    0       0           0              0   \n",
       "1             0     0           0    0       0           0              0   \n",
       "2             0     0           0    0       0           0              0   \n",
       "3             0     0           0    0       0           0              0   \n",
       "4             0     0           0    0       0           0              0   \n",
       "...         ...   ...         ...  ...     ...         ...            ...   \n",
       "22165         0     0           0    0       0           0              0   \n",
       "22166         0     0           0    0       0           0              0   \n",
       "22167         0     0           0    0       0           0              0   \n",
       "22168         0     0           0    0       0           0              0   \n",
       "22169         0     0           0    0       0           0              0   \n",
       "\n",
       "       according  account  actually  ...  yet  young  youre  yousra  youth  \\\n",
       "0              0        0         0  ...    0      0      0       0      0   \n",
       "1              0        0         0  ...    0      0      0       0      0   \n",
       "2              0        0         0  ...    0      0      0       0      0   \n",
       "3              0        0         0  ...    0      0      0       0      0   \n",
       "4              0        0         0  ...    0      0      0       0      0   \n",
       "...          ...      ...       ...  ...  ...    ...    ...     ...    ...   \n",
       "22165          0        0         0  ...    0      0      0       0      0   \n",
       "22166          0        0         0  ...    0      0      0       0      0   \n",
       "22167          0        0         0  ...    0      0      0       0      0   \n",
       "22168          0        0         0  ...    0      0      0       0      0   \n",
       "22169          0        0         0  ...    0      0      0       0      0   \n",
       "\n",
       "       yum  yummy  yusra  zain  zero  \n",
       "0        0      0      0     0     0  \n",
       "1        0      0      0     0     0  \n",
       "2        0      0      0     0     0  \n",
       "3        0      0      0     0     0  \n",
       "4        0      0      0     0     0  \n",
       "...    ...    ...    ...   ...   ...  \n",
       "22165    0      0      0     0     0  \n",
       "22166    0      0      0     0     0  \n",
       "22167    0      0      0     0     0  \n",
       "22168    0      0      0     0     0  \n",
       "22169    0      0      0     0     0  \n",
       "\n",
       "[22170 rows x 1500 columns]"
      ]
     },
     "execution_count": 92,
     "metadata": {},
     "output_type": "execute_result"
    }
   ],
   "source": [
    "d = pd.DataFrame(X,columns=count_vector.get_feature_names_out())\n",
    "d"
   ]
  },
  {
   "cell_type": "code",
   "execution_count": 93,
   "id": "1c0cd216",
   "metadata": {},
   "outputs": [
    {
     "data": {
      "text/plain": [
       "array([2, 2, 2, ..., 1, 2, 1])"
      ]
     },
     "execution_count": 93,
     "metadata": {},
     "output_type": "execute_result"
    }
   ],
   "source": [
    "# convert classes to number\n",
    "encoder = LabelEncoder()\n",
    "y = encoder.fit_transform(df['sentiment'])\n",
    "y"
   ]
  },
  {
   "cell_type": "code",
   "execution_count": 94,
   "id": "9a930243",
   "metadata": {},
   "outputs": [],
   "source": [
    "# Split data into training and testing\n",
    "X_train, X_test, y_train, y_test = train_test_split(X,y, test_size =0.2, random_state=42)"
   ]
  },
  {
   "cell_type": "code",
   "execution_count": 95,
   "id": "1b3d4590",
   "metadata": {},
   "outputs": [],
   "source": [
    "import sklearn \n",
    "from sklearn import metrics\n",
    "from sklearn.model_selection import train_test_split, GridSearchCV\n",
    "from sklearn.feature_extraction.text import TfidfVectorizer\n",
    "from sklearn.linear_model import LogisticRegression\n",
    "from sklearn.metrics import confusion_matrix,accuracy_score, classification_report\n",
    "import random"
   ]
  },
  {
   "cell_type": "markdown",
   "id": "8652f89d",
   "metadata": {},
   "source": [
    "# Logistic Regression"
   ]
  },
  {
   "cell_type": "code",
   "execution_count": 96,
   "id": "6fbd44cb",
   "metadata": {},
   "outputs": [
    {
     "name": "stdout",
     "output_type": "stream",
     "text": [
      "dict_keys(['C', 'class_weight', 'dual', 'fit_intercept', 'intercept_scaling', 'l1_ratio', 'max_iter', 'multi_class', 'n_jobs', 'penalty', 'random_state', 'solver', 'tol', 'verbose', 'warm_start'])\n"
     ]
    }
   ],
   "source": [
    "logistic = LogisticRegression()\n",
    "print(logistic.get_params().keys())"
   ]
  },
  {
   "cell_type": "code",
   "execution_count": 97,
   "id": "cd6153cd",
   "metadata": {},
   "outputs": [
    {
     "name": "stdout",
     "output_type": "stream",
     "text": [
      "Accuracy score is 0.83\n",
      "              precision    recall  f1-score   support\n",
      "\n",
      "           0       0.74      0.62      0.67       655\n",
      "           1       0.34      0.07      0.12       461\n",
      "           2       0.85      0.97      0.91      3318\n",
      "\n",
      "    accuracy                           0.83      4434\n",
      "   macro avg       0.65      0.55      0.57      4434\n",
      "weighted avg       0.78      0.83      0.79      4434\n",
      "\n"
     ]
    }
   ],
   "source": [
    "# make pipeline\n",
    "model = LogisticRegression()\n",
    "# make param grid\n",
    "param_grid = {'C': [0.01, 0.1, 1, 10, 100]}\n",
    "\n",
    "# create and fit the model\n",
    "model = GridSearchCV(logistic, param_grid, cv=10, n_jobs=-1)\n",
    "model.fit(X_train,y_train)\n",
    "\n",
    "# make prediction and print accuracy\n",
    "prediction = model.predict(X_test)\n",
    "print(f\"Accuracy score is {accuracy_score(y_test, prediction):.2f}\")\n",
    "print(classification_report(y_test, prediction))"
   ]
  },
  {
   "cell_type": "code",
   "execution_count": 98,
   "id": "15a63bf8",
   "metadata": {},
   "outputs": [
    {
     "data": {
      "text/plain": [
       "array([0, 1, 2, ..., 0, 1, 2])"
      ]
     },
     "execution_count": 98,
     "metadata": {},
     "output_type": "execute_result"
    }
   ],
   "source": [
    "# Predicting the Test set results \n",
    "y_pred = model.predict(X_test) \n",
    "y_pred"
   ]
  },
  {
   "cell_type": "code",
   "execution_count": 99,
   "id": "b57b250d",
   "metadata": {},
   "outputs": [
    {
     "name": "stdout",
     "output_type": "stream",
     "text": [
      "Test model accuracy:  0.8279206134415877\n"
     ]
    }
   ],
   "source": [
    "print('Test model accuracy: ',accuracy_score(y_test, y_pred))"
   ]
  },
  {
   "cell_type": "markdown",
   "id": "2195306d",
   "metadata": {},
   "source": []
  }
 ],
 "metadata": {
  "kernelspec": {
   "display_name": "Python 3 (ipykernel)",
   "language": "python",
   "name": "python3"
  },
  "language_info": {
   "codemirror_mode": {
    "name": "ipython",
    "version": 3
   },
   "file_extension": ".py",
   "mimetype": "text/x-python",
   "name": "python",
   "nbconvert_exporter": "python",
   "pygments_lexer": "ipython3",
   "version": "3.9.12"
  },
  "varInspector": {
   "cols": {
    "lenName": 16,
    "lenType": 16,
    "lenVar": 40
   },
   "kernels_config": {
    "python": {
     "delete_cmd_postfix": "",
     "delete_cmd_prefix": "del ",
     "library": "var_list.py",
     "varRefreshCmd": "print(var_dic_list())"
    },
    "r": {
     "delete_cmd_postfix": ") ",
     "delete_cmd_prefix": "rm(",
     "library": "var_list.r",
     "varRefreshCmd": "cat(var_dic_list()) "
    }
   },
   "types_to_exclude": [
    "module",
    "function",
    "builtin_function_or_method",
    "instance",
    "_Feature"
   ],
   "window_display": false
  }
 },
 "nbformat": 4,
 "nbformat_minor": 5
}
